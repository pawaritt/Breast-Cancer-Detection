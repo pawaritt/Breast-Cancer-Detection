{
 "cells": [
  {
   "cell_type": "code",
   "execution_count": null,
   "metadata": {},
   "outputs": [],
   "source": [
    "from tensorflow._api.v2.image import decode_png, convert_image_dtype, resize, random_flip_left_right, random_flip_up_down\n",
    "from tensorflow._api.v2.strings import split, to_number\n",
    "from tensorflow._api.v2.data import Dataset, AUTOTUNE\n",
    "from tensorflow._api.v2.io import read_file\n",
    "from tuneable_model import CancerNet\n",
    "from keras.utils import to_categorical\n",
    "from keras.models import Model\n",
    "from keras.callbacks import EarlyStopping\n",
    "from keras.optimizers import Adagrad\n",
    "import tensorflow as tf \n",
    "from imutils.paths import list_images\n",
    "from config import *\n",
    "import os\n",
    "import keras_tuner as kt\n"
   ]
  },
  {
   "cell_type": "code",
   "execution_count": 3,
   "metadata": {},
   "outputs": [],
   "source": [
    "%load_ext autoreload\n",
    "%autoreload 2"
   ]
  },
  {
   "cell_type": "code",
   "execution_count": 4,
   "metadata": {},
   "outputs": [],
   "source": [
    "def load_images(path):\n",
    "    image = read_file(path)\n",
    "    image = decode_png(image)\n",
    "    image = convert_image_dtype(image, \"float32\")\n",
    "    image = resize(image, (48, 48))\n",
    "\n",
    "    label = split(path, os.path.sep)[-2]\n",
    "    label = to_number(label, tf.int32)\n",
    "    return image, label\n"
   ]
  },
  {
   "cell_type": "code",
   "execution_count": 5,
   "metadata": {},
   "outputs": [],
   "source": [
    "@tf.function\n",
    "def augment(image, label):\n",
    "    image = random_flip_left_right(image)\n",
    "    image = random_flip_up_down(image)\n",
    "    return image, label"
   ]
  },
  {
   "cell_type": "code",
   "execution_count": 6,
   "metadata": {},
   "outputs": [],
   "source": [
    "trainPaths = list(list_images(TRAIN_PATH))\n",
    "testPaths = list(list_images(TEST_PATH))\n",
    "valPaths = list(list_images(VAL_PATH))"
   ]
  },
  {
   "cell_type": "code",
   "execution_count": 7,
   "metadata": {},
   "outputs": [],
   "source": [
    "trainLabel = [path.split(os.path.sep)[-2] for path in trainPaths]\n",
    "testLabel= [path.split(os.path.sep)[-2] for path in testPaths]\n",
    "valLabel= [path.split(os.path.sep)[-2] for path in valPaths]\n"
   ]
  },
  {
   "cell_type": "code",
   "execution_count": 8,
   "metadata": {},
   "outputs": [],
   "source": [
    "onehot = to_categorical(trainLabel)\n",
    "classTotal = onehot.sum(axis=0)\n",
    "classWeights = {}"
   ]
  },
  {
   "cell_type": "code",
   "execution_count": 9,
   "metadata": {},
   "outputs": [],
   "source": [
    "for i in range(len(classTotal)):\n",
    "    classWeights[i] = classTotal.max() / classTotal[i]"
   ]
  },
  {
   "cell_type": "code",
   "execution_count": 10,
   "metadata": {},
   "outputs": [],
   "source": [
    "trainDS = Dataset.from_tensor_slices(trainPaths)\n",
    "testDS = Dataset.from_tensor_slices(testPaths)\n",
    "valDS = Dataset.from_tensor_slices(valPaths)"
   ]
  },
  {
   "cell_type": "code",
   "execution_count": 11,
   "metadata": {},
   "outputs": [],
   "source": [
    "trainDS = (trainDS\n",
    "           .shuffle(len(trainPaths))\n",
    "           .map(load_images, num_parallel_calls=AUTOTUNE)\n",
    "           .map(augment, num_parallel_calls=AUTOTUNE)\n",
    "           .cache()\n",
    "           .batch(BS)\n",
    "           .prefetch(AUTOTUNE))\n",
    "testDS = (testDS\n",
    "          .map(load_images, num_parallel_calls=AUTOTUNE)\n",
    "          .cache()\n",
    "          .batch(BS)\n",
    "          .prefetch(AUTOTUNE))\n",
    "valDS = (valDS\n",
    "          .map(load_images, num_parallel_calls=AUTOTUNE)\n",
    "          .cache()\n",
    "          .batch(BS)\n",
    "          .prefetch(AUTOTUNE))"
   ]
  },
  {
   "cell_type": "code",
   "execution_count": 15,
   "metadata": {},
   "outputs": [],
   "source": [
    "tuner = kt.Hyperband(\n",
    "    CancerNet.build,\n",
    "    objective=\"val_accuracy\",\n",
    "    max_epochs=NUM_EPOCHS,\n",
    "    factor=3,\n",
    "    seed=42,\n",
    "    directory=OUTPUT_PATH,\n",
    "    project_name=\"hyperband\"\n",
    ")"
   ]
  },
  {
   "cell_type": "code",
   "execution_count": 17,
   "metadata": {},
   "outputs": [],
   "source": [
    "es = EarlyStopping(\n",
    "            monitor=\"val_loss\",\n",
    "            patience=5\n",
    "        )"
   ]
  },
  {
   "cell_type": "code",
   "execution_count": null,
   "metadata": {},
   "outputs": [],
   "source": [
    "tuner.search(\n",
    "    trainDS,\n",
    "    validation_data=valDS,\n",
    "    batch_size=BS,\n",
    "    callbacks=[es],\n",
    "    epochs=NUM_EPOCHS\n",
    ")"
   ]
  },
  {
   "cell_type": "code",
   "execution_count": 19,
   "metadata": {},
   "outputs": [],
   "source": [
    "bestHP = tuner.get_best_hyperparameters()[0]\n",
    "model = tuner.hypermodel.build(bestHP)"
   ]
  },
  {
   "cell_type": "code",
   "execution_count": null,
   "metadata": {},
   "outputs": [],
   "source": [
    "bestHP"
   ]
  },
  {
   "cell_type": "code",
   "execution_count": 20,
   "metadata": {},
   "outputs": [
    {
     "name": "stdout",
     "output_type": "stream",
     "text": [
      "Epoch 1/250\n",
      "2169/2169 [==============================] - 610s 281ms/step - loss: 0.0000e+00 - accuracy: 0.8425 - val_loss: 0.0000e+00 - val_accuracy: 0.8113\n",
      "Epoch 2/250\n",
      "2169/2169 [==============================] - 557s 257ms/step - loss: 0.0000e+00 - accuracy: 0.8598 - val_loss: 0.0000e+00 - val_accuracy: 0.8561\n",
      "Epoch 3/250\n",
      "2169/2169 [==============================] - 574s 265ms/step - loss: 0.0000e+00 - accuracy: 0.8672 - val_loss: 0.0000e+00 - val_accuracy: 0.8673\n",
      "Epoch 4/250\n",
      "2169/2169 [==============================] - 3300s 2s/step - loss: 0.0000e+00 - accuracy: 0.8705 - val_loss: 0.0000e+00 - val_accuracy: 0.8691\n",
      "Epoch 5/250\n",
      "2169/2169 [==============================] - 621s 286ms/step - loss: 0.0000e+00 - accuracy: 0.8718 - val_loss: 0.0000e+00 - val_accuracy: 0.8746\n",
      "Epoch 6/250\n",
      "2169/2169 [==============================] - 1643s 758ms/step - loss: 0.0000e+00 - accuracy: 0.8735 - val_loss: 0.0000e+00 - val_accuracy: 0.8774\n"
     ]
    },
    {
     "data": {
      "text/plain": [
       "<keras.src.callbacks.History at 0x478908550>"
      ]
     },
     "execution_count": 20,
     "metadata": {},
     "output_type": "execute_result"
    }
   ],
   "source": [
    "model.fit(\n",
    "    trainDS,\n",
    "    validation_data=valDS,\n",
    "    batch_size=BS,\n",
    "    epochs=NUM_EPOCHS,\n",
    "    callbacks=[es],\n",
    "    class_weight=classWeights,\n",
    "    verbose=1\n",
    ")"
   ]
  },
  {
   "cell_type": "code",
   "execution_count": 23,
   "metadata": {},
   "outputs": [
    {
     "name": "stdout",
     "output_type": "stream",
     "text": [
      "1215/1215 [==============================] - 71s 58ms/step - loss: 0.0000e+00 - accuracy: 0.8761\n"
     ]
    },
    {
     "data": {
      "text/plain": [
       "[0.0, 0.8761115670204163]"
      ]
     },
     "execution_count": 23,
     "metadata": {},
     "output_type": "execute_result"
    }
   ],
   "source": [
    "loss, accuracy = model.evaluate(testDS)"
   ]
  },
  {
   "cell_type": "code",
   "execution_count": 24,
   "metadata": {},
   "outputs": [
   ],
   "source": [
    "print(\"[INFO] accuracy: {:.3f}%\".format(accuracy * 100))"
   ]
  },
  {
   "cell_type": "code",
   "execution_count": null,
   "metadata": {},
   "outputs": [],
   "source": []
  }
 ],
 "metadata": {
  "kernelspec": {
   "display_name": "Python 3",
   "language": "python",
   "name": "python3"
  },
  "language_info": {
   "codemirror_mode": {
    "name": "ipython",
    "version": 3
   },
   "file_extension": ".py",
   "mimetype": "text/x-python",
   "name": "python",
   "nbconvert_exporter": "python",
   "pygments_lexer": "ipython3",
   "version": "3.11.3"
  }
 },
 "nbformat": 4,
 "nbformat_minor": 2
}
